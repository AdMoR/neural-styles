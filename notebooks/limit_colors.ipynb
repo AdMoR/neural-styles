{
 "cells": [
  {
   "cell_type": "code",
   "execution_count": 55,
   "id": "25454015",
   "metadata": {},
   "outputs": [
    {
     "name": "stdout",
     "output_type": "stream",
     "text": [
      "Requirement already satisfied: scikit-image in /home/amor/Documents/code_dw/neural-styles/venv/lib/python3.8/site-packages (0.18.3)\n",
      "Requirement already satisfied: tifffile>=2019.7.26 in /home/amor/Documents/code_dw/neural-styles/venv/lib/python3.8/site-packages (from scikit-image) (2021.8.30)\n",
      "Requirement already satisfied: scipy>=1.0.1 in /home/amor/Documents/code_dw/neural-styles/venv/lib/python3.8/site-packages (from scikit-image) (1.7.1)\n",
      "Requirement already satisfied: pillow!=7.1.0,!=7.1.1,>=4.3.0 in /home/amor/Documents/code_dw/neural-styles/venv/lib/python3.8/site-packages (from scikit-image) (8.3.2)\n",
      "Requirement already satisfied: numpy>=1.16.5 in /home/amor/Documents/code_dw/neural-styles/venv/lib/python3.8/site-packages (from scikit-image) (1.20.3)\n",
      "Requirement already satisfied: imageio>=2.3.0 in /home/amor/Documents/code_dw/neural-styles/venv/lib/python3.8/site-packages (from scikit-image) (2.9.0)\n",
      "Requirement already satisfied: PyWavelets>=1.1.1 in /home/amor/Documents/code_dw/neural-styles/venv/lib/python3.8/site-packages (from scikit-image) (1.1.1)\n",
      "Requirement already satisfied: matplotlib!=3.0.0,>=2.0.0 in /home/amor/Documents/code_dw/neural-styles/venv/lib/python3.8/site-packages (from scikit-image) (3.4.3)\n",
      "Requirement already satisfied: networkx>=2.0 in /home/amor/Documents/code_dw/neural-styles/venv/lib/python3.8/site-packages (from scikit-image) (2.6.2)\n",
      "Requirement already satisfied: python-dateutil>=2.7 in /home/amor/Documents/code_dw/neural-styles/venv/lib/python3.8/site-packages (from matplotlib!=3.0.0,>=2.0.0->scikit-image) (2.8.2)\n",
      "Requirement already satisfied: pyparsing>=2.2.1 in /home/amor/Documents/code_dw/neural-styles/venv/lib/python3.8/site-packages (from matplotlib!=3.0.0,>=2.0.0->scikit-image) (2.4.7)\n",
      "Requirement already satisfied: kiwisolver>=1.0.1 in /home/amor/Documents/code_dw/neural-styles/venv/lib/python3.8/site-packages (from matplotlib!=3.0.0,>=2.0.0->scikit-image) (1.3.2)\n",
      "Requirement already satisfied: cycler>=0.10 in /home/amor/Documents/code_dw/neural-styles/venv/lib/python3.8/site-packages (from matplotlib!=3.0.0,>=2.0.0->scikit-image) (0.10.0)\n",
      "Requirement already satisfied: six in /home/amor/Documents/code_dw/neural-styles/venv/lib/python3.8/site-packages (from cycler>=0.10->matplotlib!=3.0.0,>=2.0.0->scikit-image) (1.16.0)\n",
      "[33mWARNING: You are using pip version 21.2.4; however, version 22.0.4 is available.\n",
      "You should consider upgrading via the '/home/amor/Documents/code_dw/neural-styles/venv/bin/python3 -m pip install --upgrade pip' command.\n"
     ]
    }
   ],
   "source": [
    "!pip install scikit-image"
   ]
  },
  {
   "cell_type": "code",
   "execution_count": 82,
   "id": "50243c9d",
   "metadata": {},
   "outputs": [
    {
     "name": "stdout",
     "output_type": "stream",
     "text": [
      "Iter 5\n",
      "Iter 7\n"
     ]
    }
   ],
   "source": [
    "\n",
    "import torch\n",
    "\n",
    "from neural_styles.svg_optim.svg_optimizer import CurveOptimizer, Generator, GroupGenerator\n",
    "from neural_styles.svg_optim.excitation_forward_func import gen_vgg16_excitation_func, gen_vgg16_mimick, VGG16Layers\n",
    "from neural_styles import ROOT_DIR\n",
    "\n",
    "\n",
    "gen = Generator(10, 224, 224, allow_color=True)\n",
    "n_iter = 10\n",
    "torch.set_default_tensor_type('torch.FloatTensor')\n",
    "\n",
    "forward_func = lambda img_batch, **kwargs: torch.linalg.norm(img_batch)\n",
    "optimizer = CurveOptimizer(n_iter, 224, 224, gen.gen_func(), forward_func)\n",
    "shapes, shape_groups = optimizer.gen_and_optimize()"
   ]
  },
  {
   "cell_type": "code",
   "execution_count": 83,
   "id": "d29cdfc9",
   "metadata": {},
   "outputs": [
    {
     "data": {
      "text/plain": [
       "[<pydiffvg.shape.Path at 0x7f12d1183880>,\n",
       " <pydiffvg.shape.Path at 0x7f12d10e2e20>,\n",
       " <pydiffvg.shape.Path at 0x7f12d07c9610>,\n",
       " <pydiffvg.shape.Path at 0x7f12986466a0>,\n",
       " <pydiffvg.shape.Path at 0x7f12a0067550>,\n",
       " <pydiffvg.shape.Path at 0x7f12d113f790>,\n",
       " <pydiffvg.shape.Path at 0x7f12d07b76a0>,\n",
       " <pydiffvg.shape.Path at 0x7f1298666a30>,\n",
       " <pydiffvg.shape.Path at 0x7f12d07db310>,\n",
       " <pydiffvg.shape.Path at 0x7f1298718f70>]"
      ]
     },
     "execution_count": 83,
     "metadata": {},
     "output_type": "execute_result"
    }
   ],
   "source": [
    "shapes"
   ]
  },
  {
   "cell_type": "code",
   "execution_count": 84,
   "id": "f283f4db",
   "metadata": {},
   "outputs": [],
   "source": [
    "from sklearn.cluster import KMeans\n",
    "from skimage.color import rgb2hsv, hsv2rgb, rgb2lab, lab2rgb\n",
    "\n",
    "X = [rgb2lab(sg.stroke_color.detach().numpy()[:3]) for sg in shape_groups]\n",
    "W = [s.stroke_width.detach().numpy() for s in shapes]\n",
    "\n",
    "\n",
    "kmeans = KMeans(n_clusters=3, random_state=0, max_iter=1000)\n",
    "wt_kmeansclus = kmeans.fit(X, sample_weight=W)\n",
    "predicted_kmeans = kmeans.predict(X, sample_weight=W)"
   ]
  },
  {
   "cell_type": "code",
   "execution_count": 85,
   "id": "f96a569a",
   "metadata": {},
   "outputs": [
    {
     "data": {
      "text/plain": [
       "array([2, 0, 2, 0, 0, 0, 0, 1, 1, 0], dtype=int32)"
      ]
     },
     "execution_count": 85,
     "metadata": {},
     "output_type": "execute_result"
    }
   ],
   "source": [
    "predicted_kmeans"
   ]
  },
  {
   "cell_type": "code",
   "execution_count": 86,
   "id": "7658a437",
   "metadata": {},
   "outputs": [
    {
     "data": {
      "image/png": "[encoded data removed]",
      "text/plain": [
       "<Figure size 432x288 with 1 Axes>"
      ]
     },
     "metadata": {
      "needs_background": "light"
     },
     "output_type": "display_data"
    }
   ],
   "source": [
    "from matplotlib import pyplot as plt\n",
    "\n",
    "def display_colors(X):\n",
    "    rgb_X = [lab2rgb(x) for x in X]\n",
    "    XX = np.concatenate(rgb_X, axis=-1).reshape(-1, 3)\n",
    "    plt.imshow(XX.reshape(1, -1, 3))\n",
    "    \n",
    "display_colors(X)"
   ]
  },
  {
   "cell_type": "code",
   "execution_count": 87,
   "id": "9c4a667f",
   "metadata": {},
   "outputs": [
    {
     "data": {
      "image/png": "[encoded data removed]",
      "text/plain": [
       "<Figure size 432x288 with 1 Axes>"
      ]
     },
     "metadata": {
      "needs_background": "light"
     },
     "output_type": "display_data"
    }
   ],
   "source": [
    "display_colors(kmeans.cluster_centers_)\n"
   ]
  },
  {
   "cell_type": "code",
   "execution_count": 99,
   "id": "f7eff1ae",
   "metadata": {},
   "outputs": [
    {
     "data": {
      "image/png": "[encoded data removed]",
      "text/plain": [
       "<Figure size 432x288 with 1 Axes>"
      ]
     },
     "metadata": {
      "needs_background": "light"
     },
     "output_type": "display_data"
    }
   ],
   "source": [
    "new_colors = [kmeans.cluster_centers_[i] for i in predicted_kmeans]\n",
    "\n",
    "display_colors(new_colors)"
   ]
  },
  {
   "cell_type": "code",
   "execution_count": null,
   "id": "8804ef16",
   "metadata": {},
   "outputs": [],
   "source": []
  },
  {
   "cell_type": "code",
   "execution_count": null,
   "id": "985f0a40",
   "metadata": {},
   "outputs": [],
   "source": []
  },
  {
   "cell_type": "code",
   "execution_count": 95,
   "id": "c5ff6ed7",
   "metadata": {},
   "outputs": [],
   "source": [
    "",
    "\n",
    "def my_render(shapes, shape_groups):\n",
    "    render = pydiffvg.RenderFunction.apply\n",
    "    scene_args = pydiffvg.RenderFunction.serialize_scene( \\\n",
    "        1 * 224, 1 * 224, shapes, shape_groups)\n",
    "    img = render(1 * 224, 1 * 224, 2, 2, 0,\n",
    "                 torch.ones((1 * 224, 1 * 224, 4)), *scene_args)\n",
    "    plt.imshow(img.cpu().detach().numpy())\n"
   ]
  },
  {
   "cell_type": "code",
   "execution_count": 96,
   "id": "02d59e06",
   "metadata": {},
   "outputs": [
    {
     "data": {
      "image/png": "[encoded data removed]",
      "text/plain": [
       "<Figure size 432x288 with 1 Axes>"
      ]
     },
     "metadata": {
      "needs_background": "light"
     },
     "output_type": "display_data"
    }
   ],
   "source": [
    "my_render(shapes, shape_groups)"
   ]
  },
  {
   "cell_type": "code",
   "execution_count": 104,
   "id": "9dc3ce48",
   "metadata": {},
   "outputs": [
    {
     "data": {
      "image/png": "[encoded data removed]",
      "text/plain": [
       "<Figure size 432x288 with 1 Axes>"
      ]
     },
     "metadata": {
      "needs_background": "light"
     },
     "output_type": "display_data"
    }
   ],
   "source": [
    "new_colors = [lab2rgb(kmeans.cluster_centers_[i]) for i in predicted_kmeans]\n",
    "\n",
    "new_sgs = [pydiffvg.ShapeGroup(shape_ids=sg.shape_ids, fill_color=None,\n",
    "                               stroke_color=torch.tensor((*new_colors[i], 1))) \n",
    "           for i, sg in enumerate(shape_groups)]\n",
    "\n",
    "my_render(shapes, new_sgs)"
   ]
  },
  {
   "cell_type": "code",
   "execution_count": 102,
   "id": "88b1d6f4",
   "metadata": {},
   "outputs": [
    {
     "data": {
      "text/plain": [
       "[array([ 63.72915041,  21.9643116 , -49.22838211]),\n",
       " array([ 61.58667487, -50.47134807,  29.90627786]),\n",
       " array([ 63.72915041,  21.9643116 , -49.22838211]),\n",
       " array([ 61.58667487, -50.47134807,  29.90627786]),\n",
       " array([ 61.58667487, -50.47134807,  29.90627786]),\n",
       " array([ 61.58667487, -50.47134807,  29.90627786]),\n",
       " array([ 61.58667487, -50.47134807,  29.90627786]),\n",
       " array([73.80529428, 11.87689602, 40.14622271]),\n",
       " array([73.80529428, 11.87689602, 40.14622271]),\n",
       " array([ 61.58667487, -50.47134807,  29.90627786])]"
      ]
     },
     "execution_count": 102,
     "metadata": {},
     "output_type": "execute_result"
    }
   ],
   "source": []
  },
  {
   "cell_type": "code",
   "execution_count": null,
   "id": "0a14b093",
   "metadata": {},
   "outputs": [],
   "source": []
  }
 ],
 "metadata": {
  "kernelspec": {
   "display_name": "Python 3 (ipykernel)",
   "language": "python",
   "name": "python3"
  },
  "language_info": {
   "codemirror_mode": {
    "name": "ipython",
    "version": 3
   },
   "file_extension": ".py",
   "mimetype": "text/x-python",
   "name": "python",
   "nbconvert_exporter": "python",
   "pygments_lexer": "ipython3",
   "version": "3.8.10"
  }
 },
 "nbformat": 4,
 "nbformat_minor": 5
}
